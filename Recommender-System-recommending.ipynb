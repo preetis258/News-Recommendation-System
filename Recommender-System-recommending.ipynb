{
 "cells": [
  {
   "cell_type": "markdown",
   "id": "8dbd96be",
   "metadata": {},
   "source": [
    "## Importing libraries"
   ]
  },
  {
   "cell_type": "code",
   "execution_count": 81,
   "id": "e978b5df",
   "metadata": {},
   "outputs": [],
   "source": [
    "import numpy as np\n",
    "import pandas as pd\n",
    "import seaborn as sns\n",
    "from sklearn.feature_extraction.text import CountVectorizer\n",
    "from sklearn.metrics.pairwise import cosine_similarity"
   ]
  },
  {
   "cell_type": "markdown",
   "id": "7b595d3a",
   "metadata": {},
   "source": [
    "## Loading the preprocessed datasets"
   ]
  },
  {
   "cell_type": "code",
   "execution_count": 2,
   "id": "6ba892c1",
   "metadata": {},
   "outputs": [],
   "source": [
    "df_news=pd.read_csv(\"PC-news-data.csv\") # news dataset\n",
    "df_history=pd.read_csv(\"PC-behaviour-data.csv\") # history dataset"
   ]
  },
  {
   "cell_type": "code",
   "execution_count": 3,
   "id": "ac3c9679",
   "metadata": {},
   "outputs": [
    {
     "data": {
      "text/html": [
       "<div>\n",
       "<style scoped>\n",
       "    .dataframe tbody tr th:only-of-type {\n",
       "        vertical-align: middle;\n",
       "    }\n",
       "\n",
       "    .dataframe tbody tr th {\n",
       "        vertical-align: top;\n",
       "    }\n",
       "\n",
       "    .dataframe thead th {\n",
       "        text-align: right;\n",
       "    }\n",
       "</style>\n",
       "<table border=\"1\" class=\"dataframe\">\n",
       "  <thead>\n",
       "    <tr style=\"text-align: right;\">\n",
       "      <th></th>\n",
       "      <th>news_id</th>\n",
       "      <th>category</th>\n",
       "      <th>subcategory</th>\n",
       "      <th>title</th>\n",
       "      <th>abstract</th>\n",
       "      <th>tags</th>\n",
       "      <th>subcategory1</th>\n",
       "    </tr>\n",
       "  </thead>\n",
       "  <tbody>\n",
       "    <tr>\n",
       "      <th>0</th>\n",
       "      <td>N55528</td>\n",
       "      <td>lifestyle</td>\n",
       "      <td>royals</td>\n",
       "      <td>The Brands Queen Elizabeth, Prince Charles, an...</td>\n",
       "      <td>Shop the notebooks, jackets, and more that the...</td>\n",
       "      <td>royals The Brands Queen Elizabeth Prince Charl...</td>\n",
       "      <td>royals</td>\n",
       "    </tr>\n",
       "    <tr>\n",
       "      <th>1</th>\n",
       "      <td>N19639</td>\n",
       "      <td>health</td>\n",
       "      <td>weightloss</td>\n",
       "      <td>50 Worst Habits For Belly Fat</td>\n",
       "      <td>These seemingly harmless habits are holding yo...</td>\n",
       "      <td>weightloss 50 Worst Habits For Belly Fat These...</td>\n",
       "      <td>weightloss</td>\n",
       "    </tr>\n",
       "    <tr>\n",
       "      <th>2</th>\n",
       "      <td>N61837</td>\n",
       "      <td>news</td>\n",
       "      <td>world</td>\n",
       "      <td>The Cost of Trump's Aid Freeze in the Trenches...</td>\n",
       "      <td>Lt. Ivan Molchanets peeked over a parapet of s...</td>\n",
       "      <td>world The Cost Trump Aid Freeze Trenches Ukrai...</td>\n",
       "      <td>world</td>\n",
       "    </tr>\n",
       "    <tr>\n",
       "      <th>3</th>\n",
       "      <td>N53526</td>\n",
       "      <td>health</td>\n",
       "      <td>voices</td>\n",
       "      <td>I Was An NBA Wife. Here's How It Affected My M...</td>\n",
       "      <td>I felt like I was a fraud, and being an NBA wi...</td>\n",
       "      <td>voices I Was An NBA Wife Here How It Affected ...</td>\n",
       "      <td>voices</td>\n",
       "    </tr>\n",
       "    <tr>\n",
       "      <th>4</th>\n",
       "      <td>N38324</td>\n",
       "      <td>health</td>\n",
       "      <td>medical</td>\n",
       "      <td>How to Get Rid of Skin Tags, According to a De...</td>\n",
       "      <td>They seem harmless, but there's a very good re...</td>\n",
       "      <td>medical How Get Rid Skin Tags According Dermat...</td>\n",
       "      <td>medical</td>\n",
       "    </tr>\n",
       "  </tbody>\n",
       "</table>\n",
       "</div>"
      ],
      "text/plain": [
       "  news_id   category subcategory  \\\n",
       "0  N55528  lifestyle      royals   \n",
       "1  N19639     health  weightloss   \n",
       "2  N61837       news       world   \n",
       "3  N53526     health      voices   \n",
       "4  N38324     health     medical   \n",
       "\n",
       "                                               title  \\\n",
       "0  The Brands Queen Elizabeth, Prince Charles, an...   \n",
       "1                      50 Worst Habits For Belly Fat   \n",
       "2  The Cost of Trump's Aid Freeze in the Trenches...   \n",
       "3  I Was An NBA Wife. Here's How It Affected My M...   \n",
       "4  How to Get Rid of Skin Tags, According to a De...   \n",
       "\n",
       "                                            abstract  \\\n",
       "0  Shop the notebooks, jackets, and more that the...   \n",
       "1  These seemingly harmless habits are holding yo...   \n",
       "2  Lt. Ivan Molchanets peeked over a parapet of s...   \n",
       "3  I felt like I was a fraud, and being an NBA wi...   \n",
       "4  They seem harmless, but there's a very good re...   \n",
       "\n",
       "                                                tags subcategory1  \n",
       "0  royals The Brands Queen Elizabeth Prince Charl...       royals  \n",
       "1  weightloss 50 Worst Habits For Belly Fat These...   weightloss  \n",
       "2  world The Cost Trump Aid Freeze Trenches Ukrai...        world  \n",
       "3  voices I Was An NBA Wife Here How It Affected ...       voices  \n",
       "4  medical How Get Rid Skin Tags According Dermat...      medical  "
      ]
     },
     "execution_count": 3,
     "metadata": {},
     "output_type": "execute_result"
    }
   ],
   "source": [
    "df_news.head() "
   ]
  },
  {
   "cell_type": "code",
   "execution_count": 4,
   "id": "d7c072bb",
   "metadata": {},
   "outputs": [
    {
     "data": {
      "text/html": [
       "<div>\n",
       "<style scoped>\n",
       "    .dataframe tbody tr th:only-of-type {\n",
       "        vertical-align: middle;\n",
       "    }\n",
       "\n",
       "    .dataframe tbody tr th {\n",
       "        vertical-align: top;\n",
       "    }\n",
       "\n",
       "    .dataframe thead th {\n",
       "        text-align: right;\n",
       "    }\n",
       "</style>\n",
       "<table border=\"1\" class=\"dataframe\">\n",
       "  <thead>\n",
       "    <tr style=\"text-align: right;\">\n",
       "      <th></th>\n",
       "      <th>user_id</th>\n",
       "      <th>history</th>\n",
       "      <th>category</th>\n",
       "      <th>subcategory</th>\n",
       "    </tr>\n",
       "  </thead>\n",
       "  <tbody>\n",
       "    <tr>\n",
       "      <th>0</th>\n",
       "      <td>U13740</td>\n",
       "      <td>N55189</td>\n",
       "      <td>tv</td>\n",
       "      <td>news</td>\n",
       "    </tr>\n",
       "    <tr>\n",
       "      <th>1</th>\n",
       "      <td>U13740</td>\n",
       "      <td>N42782</td>\n",
       "      <td>sports</td>\n",
       "      <td>baseball mlb</td>\n",
       "    </tr>\n",
       "    <tr>\n",
       "      <th>2</th>\n",
       "      <td>U13740</td>\n",
       "      <td>N34694</td>\n",
       "      <td>tv</td>\n",
       "      <td>news</td>\n",
       "    </tr>\n",
       "    <tr>\n",
       "      <th>3</th>\n",
       "      <td>U13740</td>\n",
       "      <td>N45794</td>\n",
       "      <td>news</td>\n",
       "      <td>crime</td>\n",
       "    </tr>\n",
       "    <tr>\n",
       "      <th>4</th>\n",
       "      <td>U13740</td>\n",
       "      <td>N18445</td>\n",
       "      <td>sports</td>\n",
       "      <td>football ncaa</td>\n",
       "    </tr>\n",
       "  </tbody>\n",
       "</table>\n",
       "</div>"
      ],
      "text/plain": [
       "  user_id history category    subcategory\n",
       "0  U13740  N55189       tv           news\n",
       "1  U13740  N42782   sports   baseball mlb\n",
       "2  U13740  N34694       tv           news\n",
       "3  U13740  N45794     news          crime\n",
       "4  U13740  N18445   sports  football ncaa"
      ]
     },
     "execution_count": 4,
     "metadata": {},
     "output_type": "execute_result"
    }
   ],
   "source": [
    "df_history.head()"
   ]
  },
  {
   "cell_type": "markdown",
   "id": "de4b1eaa",
   "metadata": {},
   "source": [
    "## Recommender system"
   ]
  },
  {
   "cell_type": "markdown",
   "id": "5c8aba70",
   "metadata": {},
   "source": [
    "##### A user has to enter it's choice of category"
   ]
  },
  {
   "cell_type": "code",
   "execution_count": 5,
   "id": "d6ae6fa2",
   "metadata": {},
   "outputs": [
    {
     "name": "stdout",
     "output_type": "stream",
     "text": [
      "available categories: \n",
      "\n",
      "lifestyle\n",
      "health\n",
      "news\n",
      "sports\n",
      "weather\n",
      "entertainment\n",
      "autos\n",
      "travel\n",
      "foodanddrink\n",
      "tv\n",
      "finance\n",
      "movies\n",
      "video\n",
      "music\n",
      "kids\n",
      "middleeast\n",
      "northamerica\n",
      "\n",
      "Enter category: health\n"
     ]
    }
   ],
   "source": [
    "print('available categories: \\n')\n",
    "for cat in df_news.category.unique():\n",
    "    print(cat)\n",
    "input_category=input(\"\\nEnter category: \")"
   ]
  },
  {
   "cell_type": "code",
   "execution_count": 6,
   "id": "54622cf4",
   "metadata": {},
   "outputs": [
    {
     "data": {
      "text/plain": [
       "((1834, 7), (227302, 4))"
      ]
     },
     "execution_count": 6,
     "metadata": {},
     "output_type": "execute_result"
    }
   ],
   "source": [
    "# filtering the news and history datasets based on the selected category\n",
    "input_df=df_news[df_news.category==input_category]\n",
    "input_history_df=df_history[df_history.category==input_category]\n",
    "input_df.shape,input_history_df.shape"
   ]
  },
  {
   "cell_type": "markdown",
   "id": "00d01ba3",
   "metadata": {},
   "source": [
    "##### A user has to enter it's choice of sub category from the selected category"
   ]
  },
  {
   "cell_type": "code",
   "execution_count": 9,
   "id": "a21b0a11",
   "metadata": {},
   "outputs": [
    {
     "name": "stdout",
     "output_type": "stream",
     "text": [
      "available sub categories: \n",
      "\n",
      "weightloss\n",
      "voices\n",
      "medical\n",
      "nutrition\n",
      "wellness\n",
      "news\n",
      "mental\n",
      "fitness\n",
      "ads lung\n",
      "weight loss\n",
      "agingwell\n",
      "video\n",
      "causes\n",
      "pregnancyparenting\n",
      "recipes\n",
      "yliving\n",
      "cancer\n",
      "strength\n",
      "cardio\n",
      "\n",
      "Enter sub category: weightloss\n"
     ]
    }
   ],
   "source": [
    "print('available sub categories: \\n')\n",
    "for cat in input_df.subcategory.unique():\n",
    "    print(cat)\n",
    "input_subcategory=input(\"\\nEnter sub category: \")"
   ]
  },
  {
   "cell_type": "code",
   "execution_count": 14,
   "id": "f2f836a9",
   "metadata": {},
   "outputs": [
    {
     "name": "stdout",
     "output_type": "stream",
     "text": [
      "There are 127 news articles belonging to the health category and weightloss sub category\n",
      "There are 16698 historical entries belonging to the health category and weightloss sub category\n"
     ]
    }
   ],
   "source": [
    "# filtering the news and history datasets based on the selected category and subcategory\n",
    "input_df_final=input_df[input_df.subcategory==input_subcategory]\n",
    "input_history_df_final=input_history_df[input_history_df.subcategory==input_subcategory]\n",
    "print(f\"There are {input_df_final.shape[0]} news articles belonging to the {input_category} category and {input_subcategory} sub category\")\n",
    "print(f\"There are {input_history_df_final.shape[0]} historical entries belonging to the {input_category} category and {input_subcategory} sub category\")"
   ]
  },
  {
   "cell_type": "markdown",
   "id": "de1c5736",
   "metadata": {},
   "source": [
    "### Recommending"
   ]
  },
  {
   "cell_type": "markdown",
   "id": "07f0736e",
   "metadata": {},
   "source": [
    "The number of counts of news id has a huge range. So to keep it logical, I'll set a threshold so that no news id is given more weightage."
   ]
  },
  {
   "cell_type": "code",
   "execution_count": 52,
   "id": "5709a0e4",
   "metadata": {},
   "outputs": [
    {
     "data": {
      "text/plain": [
       "U74819    13\n",
       "U18884     5\n",
       "U69065     2\n",
       "U42147     1\n",
       "U74969     1\n",
       "Name: user_id, dtype: int64"
      ]
     },
     "execution_count": 52,
     "metadata": {},
     "output_type": "execute_result"
    }
   ],
   "source": [
    "input_history_df_final[input_history_df_final.history=='N10280'].user_id.value_counts()"
   ]
  },
  {
   "cell_type": "code",
   "execution_count": 18,
   "id": "35e61670",
   "metadata": {},
   "outputs": [
    {
     "data": {
      "text/plain": [
       "13.0"
      ]
     },
     "execution_count": 18,
     "metadata": {},
     "output_type": "execute_result"
    }
   ],
   "source": [
    "threshold_li=[]\n",
    "for i in input_history_df_final.history.unique():\n",
    "    val=input_history_df_final[input_history_df_final.history==i].user_id.value_counts().iloc[0]\n",
    "    threshold_li.append(val)\n",
    "threshold_val=np.round(np.mean(threshold_li))\n",
    "threshold_val"
   ]
  },
  {
   "cell_type": "code",
   "execution_count": 21,
   "id": "9979ce9b",
   "metadata": {},
   "outputs": [
    {
     "data": {
      "image/png": "[encoded data removed]",
      "text/plain": [
       "<Figure size 432x288 with 1 Axes>"
      ]
     },
     "metadata": {
      "needs_background": "light"
     },
     "output_type": "display_data"
    }
   ],
   "source": [
    "g=sns.histplot(threshold_li,kde=True)"
   ]
  },
  {
   "cell_type": "markdown",
   "id": "1e615101",
   "metadata": {},
   "source": [
    "The news id for which count is greater than the threshold value, the values will be replaced with the threshold value."
   ]
  },
  {
   "cell_type": "code",
   "execution_count": 91,
   "id": "50fb9cef",
   "metadata": {},
   "outputs": [
    {
     "data": {
      "text/html": [
       "<div>\n",
       "<style scoped>\n",
       "    .dataframe tbody tr th:only-of-type {\n",
       "        vertical-align: middle;\n",
       "    }\n",
       "\n",
       "    .dataframe tbody tr th {\n",
       "        vertical-align: top;\n",
       "    }\n",
       "\n",
       "    .dataframe thead th {\n",
       "        text-align: right;\n",
       "    }\n",
       "</style>\n",
       "<table border=\"1\" class=\"dataframe\">\n",
       "  <thead>\n",
       "    <tr style=\"text-align: right;\">\n",
       "      <th></th>\n",
       "      <th>history</th>\n",
       "      <th>user_id</th>\n",
       "      <th>counts</th>\n",
       "    </tr>\n",
       "  </thead>\n",
       "  <tbody>\n",
       "    <tr>\n",
       "      <th>0</th>\n",
       "      <td>N10280</td>\n",
       "      <td>U18884</td>\n",
       "      <td>5.0</td>\n",
       "    </tr>\n",
       "    <tr>\n",
       "      <th>1</th>\n",
       "      <td>N10280</td>\n",
       "      <td>U42147</td>\n",
       "      <td>1.0</td>\n",
       "    </tr>\n",
       "    <tr>\n",
       "      <th>2</th>\n",
       "      <td>N10280</td>\n",
       "      <td>U69065</td>\n",
       "      <td>2.0</td>\n",
       "    </tr>\n",
       "    <tr>\n",
       "      <th>3</th>\n",
       "      <td>N10280</td>\n",
       "      <td>U74819</td>\n",
       "      <td>NaN</td>\n",
       "    </tr>\n",
       "    <tr>\n",
       "      <th>4</th>\n",
       "      <td>N10280</td>\n",
       "      <td>U74969</td>\n",
       "      <td>1.0</td>\n",
       "    </tr>\n",
       "    <tr>\n",
       "      <th>...</th>\n",
       "      <td>...</td>\n",
       "      <td>...</td>\n",
       "      <td>...</td>\n",
       "    </tr>\n",
       "    <tr>\n",
       "      <th>3652</th>\n",
       "      <td>N9340</td>\n",
       "      <td>U71054</td>\n",
       "      <td>8.0</td>\n",
       "    </tr>\n",
       "    <tr>\n",
       "      <th>3653</th>\n",
       "      <td>N9340</td>\n",
       "      <td>U74763</td>\n",
       "      <td>2.0</td>\n",
       "    </tr>\n",
       "    <tr>\n",
       "      <th>3654</th>\n",
       "      <td>N9340</td>\n",
       "      <td>U8615</td>\n",
       "      <td>1.0</td>\n",
       "    </tr>\n",
       "    <tr>\n",
       "      <th>3655</th>\n",
       "      <td>N9340</td>\n",
       "      <td>U89208</td>\n",
       "      <td>9.0</td>\n",
       "    </tr>\n",
       "    <tr>\n",
       "      <th>3656</th>\n",
       "      <td>N9340</td>\n",
       "      <td>U93665</td>\n",
       "      <td>5.0</td>\n",
       "    </tr>\n",
       "  </tbody>\n",
       "</table>\n",
       "<p>3657 rows × 3 columns</p>\n",
       "</div>"
      ],
      "text/plain": [
       "     history user_id  counts\n",
       "0     N10280  U18884     5.0\n",
       "1     N10280  U42147     1.0\n",
       "2     N10280  U69065     2.0\n",
       "3     N10280  U74819     NaN\n",
       "4     N10280  U74969     1.0\n",
       "...      ...     ...     ...\n",
       "3652   N9340  U71054     8.0\n",
       "3653   N9340  U74763     2.0\n",
       "3654   N9340   U8615     1.0\n",
       "3655   N9340  U89208     9.0\n",
       "3656   N9340  U93665     5.0\n",
       "\n",
       "[3657 rows x 3 columns]"
      ]
     },
     "execution_count": 91,
     "metadata": {},
     "output_type": "execute_result"
    }
   ],
   "source": [
    "# filtering using threshold value\n",
    "df_counts=input_history_df_final.groupby(['history','user_id']).user_id.count().to_frame().rename({'user_id':'counts'},axis=1)\n",
    "df_counts=df_counts[df_counts<threshold_val].reset_index()\n",
    "df_counts"
   ]
  },
  {
   "cell_type": "code",
   "execution_count": 92,
   "id": "747409de",
   "metadata": {},
   "outputs": [
    {
     "data": {
      "text/html": [
       "<div>\n",
       "<style scoped>\n",
       "    .dataframe tbody tr th:only-of-type {\n",
       "        vertical-align: middle;\n",
       "    }\n",
       "\n",
       "    .dataframe tbody tr th {\n",
       "        vertical-align: top;\n",
       "    }\n",
       "\n",
       "    .dataframe thead th {\n",
       "        text-align: right;\n",
       "    }\n",
       "</style>\n",
       "<table border=\"1\" class=\"dataframe\">\n",
       "  <thead>\n",
       "    <tr style=\"text-align: right;\">\n",
       "      <th></th>\n",
       "      <th>history</th>\n",
       "      <th>user_id</th>\n",
       "      <th>counts</th>\n",
       "    </tr>\n",
       "  </thead>\n",
       "  <tbody>\n",
       "    <tr>\n",
       "      <th>0</th>\n",
       "      <td>N10280</td>\n",
       "      <td>U18884</td>\n",
       "      <td>5.0</td>\n",
       "    </tr>\n",
       "    <tr>\n",
       "      <th>1</th>\n",
       "      <td>N10280</td>\n",
       "      <td>U42147</td>\n",
       "      <td>1.0</td>\n",
       "    </tr>\n",
       "    <tr>\n",
       "      <th>2</th>\n",
       "      <td>N10280</td>\n",
       "      <td>U69065</td>\n",
       "      <td>2.0</td>\n",
       "    </tr>\n",
       "    <tr>\n",
       "      <th>3</th>\n",
       "      <td>N10280</td>\n",
       "      <td>U74819</td>\n",
       "      <td>13.0</td>\n",
       "    </tr>\n",
       "    <tr>\n",
       "      <th>4</th>\n",
       "      <td>N10280</td>\n",
       "      <td>U74969</td>\n",
       "      <td>1.0</td>\n",
       "    </tr>\n",
       "  </tbody>\n",
       "</table>\n",
       "</div>"
      ],
      "text/plain": [
       "  history user_id  counts\n",
       "0  N10280  U18884     5.0\n",
       "1  N10280  U42147     1.0\n",
       "2  N10280  U69065     2.0\n",
       "3  N10280  U74819    13.0\n",
       "4  N10280  U74969     1.0"
      ]
     },
     "execution_count": 92,
     "metadata": {},
     "output_type": "execute_result"
    }
   ],
   "source": [
    "# filling null values with threshold\n",
    "df_counts.counts.fillna(threshold_val,inplace=True)\n",
    "df_counts.head()"
   ]
  },
  {
   "cell_type": "code",
   "execution_count": 93,
   "id": "34dd2456",
   "metadata": {},
   "outputs": [
    {
     "data": {
      "text/html": [
       "<div>\n",
       "<style scoped>\n",
       "    .dataframe tbody tr th:only-of-type {\n",
       "        vertical-align: middle;\n",
       "    }\n",
       "\n",
       "    .dataframe tbody tr th {\n",
       "        vertical-align: top;\n",
       "    }\n",
       "\n",
       "    .dataframe thead th {\n",
       "        text-align: right;\n",
       "    }\n",
       "</style>\n",
       "<table border=\"1\" class=\"dataframe\">\n",
       "  <thead>\n",
       "    <tr style=\"text-align: right;\">\n",
       "      <th></th>\n",
       "      <th>history</th>\n",
       "      <th>user_id</th>\n",
       "      <th>counts</th>\n",
       "      <th>user_score</th>\n",
       "    </tr>\n",
       "  </thead>\n",
       "  <tbody>\n",
       "    <tr>\n",
       "      <th>0</th>\n",
       "      <td>N10280</td>\n",
       "      <td>U18884</td>\n",
       "      <td>5.0</td>\n",
       "      <td>0.000316</td>\n",
       "    </tr>\n",
       "    <tr>\n",
       "      <th>1</th>\n",
       "      <td>N10280</td>\n",
       "      <td>U42147</td>\n",
       "      <td>1.0</td>\n",
       "      <td>0.000063</td>\n",
       "    </tr>\n",
       "    <tr>\n",
       "      <th>2</th>\n",
       "      <td>N10280</td>\n",
       "      <td>U69065</td>\n",
       "      <td>2.0</td>\n",
       "      <td>0.000126</td>\n",
       "    </tr>\n",
       "    <tr>\n",
       "      <th>3</th>\n",
       "      <td>N10280</td>\n",
       "      <td>U74819</td>\n",
       "      <td>13.0</td>\n",
       "      <td>0.000821</td>\n",
       "    </tr>\n",
       "    <tr>\n",
       "      <th>4</th>\n",
       "      <td>N10280</td>\n",
       "      <td>U74969</td>\n",
       "      <td>1.0</td>\n",
       "      <td>0.000063</td>\n",
       "    </tr>\n",
       "  </tbody>\n",
       "</table>\n",
       "</div>"
      ],
      "text/plain": [
       "  history user_id  counts  user_score\n",
       "0  N10280  U18884     5.0    0.000316\n",
       "1  N10280  U42147     1.0    0.000063\n",
       "2  N10280  U69065     2.0    0.000126\n",
       "3  N10280  U74819    13.0    0.000821\n",
       "4  N10280  U74969     1.0    0.000063"
      ]
     },
     "execution_count": 93,
     "metadata": {},
     "output_type": "execute_result"
    }
   ],
   "source": [
    "# creating a column user_score which is number of articles read by an user divided by the total number of counts\n",
    "df_counts['user_score']=df_counts['counts']/np.sum(df_counts.counts)\n",
    "df_counts.head()"
   ]
  },
  {
   "cell_type": "code",
   "execution_count": 94,
   "id": "ad34c03a",
   "metadata": {},
   "outputs": [
    {
     "data": {
      "text/plain": [
       "{'N6342': 0.12359857806945584,\n",
       " 'N17968': 0.07629204265791632,\n",
       " 'N49944': 0.05906480721903199,\n",
       " 'N64515': 0.05058791359037462,\n",
       " 'N8082': 0.04457205359584359,\n",
       " 'N33740': 0.04375170905113481,\n",
       " 'N31983': 0.03472791905933825,\n",
       " 'N1902': 0.030626196335794366,\n",
       " 'N64541': 0.02871205906480722,\n",
       " 'N62549': 0.022149302707136997,\n",
       " 'N3820': 0.021875854525567406,\n",
       " 'N36676': 0.020508613617719443,\n",
       " 'N37549': 0.019414820891441073,\n",
       " 'N17337': 0.019141372709871478,\n",
       " 'N6576': 0.01804757998359311,\n",
       " 'N52041': 0.01695378725731474,\n",
       " 'N36440': 0.014492753623188406,\n",
       " 'N13716': 0.013398960896910036,\n",
       " 'N55856': 0.013125512715340444,\n",
       " 'N64310': 0.012578616352201259,\n",
       " 'N20741': 0.012305168170631665,\n",
       " 'N35486': 0.012305168170631665,\n",
       " 'N61055': 0.012031719989062073,\n",
       " 'N24296': 0.01175827180749248,\n",
       " 'N47059': 0.01175827180749248,\n",
       " 'N64314': 0.01066447908121411,\n",
       " 'N4848': 0.01066447908121411,\n",
       " 'N13889': 0.010391030899644518,\n",
       " 'N36851': 0.009844134536505332,\n",
       " 'N33203': 0.009570686354935739,\n",
       " 'N17975': 0.009023789991796555,\n",
       " 'N21004': 0.0076565490839485915,\n",
       " 'N26213': 0.0076565490839485915,\n",
       " 'N33396': 0.007109652720809406,\n",
       " 'N35234': 0.006836204539239814,\n",
       " 'N50160': 0.006562756357670222,\n",
       " 'N54992': 0.006562756357670222,\n",
       " 'N36565': 0.006289308176100629,\n",
       " 'N60584': 0.006015859994531037,\n",
       " 'N26225': 0.006015859994531037,\n",
       " 'N25226': 0.006015859994531037,\n",
       " 'N22061': 0.005195515449822259,\n",
       " 'N52810': 0.004922067268252666,\n",
       " 'N15926': 0.004922067268252666,\n",
       " 'N729': 0.004648619086683074,\n",
       " 'N53404': 0.004375170905113481,\n",
       " 'N45851': 0.004375170905113481,\n",
       " 'N62934': 0.004375170905113481,\n",
       " 'N28406': 0.004101722723543888,\n",
       " 'N41965': 0.004101722723543888,\n",
       " 'N21147': 0.0038282745419742957,\n",
       " 'N56831': 0.0038282745419742957,\n",
       " 'N35791': 0.003554826360404703,\n",
       " 'N36292': 0.003554826360404703,\n",
       " 'N520': 0.003281378178835111,\n",
       " 'N54171': 0.0027344818156959257,\n",
       " 'N47040': 0.0027344818156959257,\n",
       " 'N9340': 0.0027344818156959257,\n",
       " 'N29360': 0.0027344818156959257,\n",
       " 'N25499': 0.0027344818156959257,\n",
       " 'N29290': 0.002461033634126333,\n",
       " 'N10955': 0.002461033634126333,\n",
       " 'N26581': 0.0021875854525567405,\n",
       " 'N29216': 0.0021875854525567405,\n",
       " 'N56105': 0.0019141372709871479,\n",
       " 'N37788': 0.0019141372709871479,\n",
       " 'N35017': 0.0019141372709871479,\n",
       " 'N59193': 0.0016406890894175555,\n",
       " 'N13411': 0.0016406890894175555,\n",
       " 'N40268': 0.0016406890894175555,\n",
       " 'N31697': 0.0016406890894175555,\n",
       " 'N9259': 0.0016406890894175555,\n",
       " 'N16032': 0.0013672409078479629,\n",
       " 'N58533': 0.0013672409078479629,\n",
       " 'N59078': 0.0013672409078479629,\n",
       " 'N10280': 0.0013672409078479629,\n",
       " 'N32380': 0.0013672409078479629,\n",
       " 'N37823': 0.0013672409078479629,\n",
       " 'N49425': 0.0010937927262783702,\n",
       " 'N45145': 0.0010937927262783702,\n",
       " 'N43138': 0.0010937927262783702,\n",
       " 'N45074': 0.0010937927262783702,\n",
       " 'N13712': 0.0010937927262783702,\n",
       " 'N21947': 0.0010937927262783702,\n",
       " 'N33782': 0.0010937927262783702,\n",
       " 'N47636': 0.0010937927262783702,\n",
       " 'N47331': 0.0010937927262783702,\n",
       " 'N49121': 0.0008203445447087777,\n",
       " 'N8260': 0.0008203445447087777,\n",
       " 'N28111': 0.0008203445447087777,\n",
       " 'N17701': 0.0008203445447087777,\n",
       " 'N63652': 0.0008203445447087777,\n",
       " 'N18977': 0.0008203445447087777,\n",
       " 'N62787': 0.0008203445447087777,\n",
       " 'N24305': 0.0005468963631391851,\n",
       " 'N18244': 0.0005468963631391851,\n",
       " 'N10652': 0.0005468963631391851,\n",
       " 'N30301': 0.0005468963631391851,\n",
       " 'N41980': 0.0005468963631391851,\n",
       " 'N46692': 0.0005468963631391851,\n",
       " 'N29434': 0.0005468963631391851,\n",
       " 'N24868': 0.0005468963631391851,\n",
       " 'N49275': 0.0005468963631391851,\n",
       " 'N25631': 0.00027344818156959256,\n",
       " 'N29827': 0.00027344818156959256,\n",
       " 'N47752': 0.00027344818156959256,\n",
       " 'N12460': 0.00027344818156959256,\n",
       " 'N48877': 0.00027344818156959256,\n",
       " 'N44653': 0.00027344818156959256,\n",
       " 'N44304': 0.00027344818156959256,\n",
       " 'N53329': 0.00027344818156959256,\n",
       " 'N41643': 0.00027344818156959256,\n",
       " 'N25437': 0.00027344818156959256,\n",
       " 'N19639': 0.00027344818156959256,\n",
       " 'N20909': 0.00027344818156959256,\n",
       " 'N24494': 0.00027344818156959256,\n",
       " 'N22396': 0.00027344818156959256,\n",
       " 'N38336': 0.00027344818156959256,\n",
       " 'N3945': 0.00027344818156959256,\n",
       " 'N36417': 0.00027344818156959256}"
      ]
     },
     "execution_count": 94,
     "metadata": {},
     "output_type": "execute_result"
    }
   ],
   "source": [
    "# calculating scores for news articles\n",
    "news_score_dict=df_counts.history.value_counts(normalize=True).to_dict()\n",
    "news_score_dict"
   ]
  },
  {
   "cell_type": "code",
   "execution_count": 95,
   "id": "18572677",
   "metadata": {},
   "outputs": [
    {
     "data": {
      "text/html": [
       "<div>\n",
       "<style scoped>\n",
       "    .dataframe tbody tr th:only-of-type {\n",
       "        vertical-align: middle;\n",
       "    }\n",
       "\n",
       "    .dataframe tbody tr th {\n",
       "        vertical-align: top;\n",
       "    }\n",
       "\n",
       "    .dataframe thead th {\n",
       "        text-align: right;\n",
       "    }\n",
       "</style>\n",
       "<table border=\"1\" class=\"dataframe\">\n",
       "  <thead>\n",
       "    <tr style=\"text-align: right;\">\n",
       "      <th></th>\n",
       "      <th>history</th>\n",
       "      <th>user_id</th>\n",
       "      <th>counts</th>\n",
       "      <th>user_score</th>\n",
       "      <th>news_score</th>\n",
       "    </tr>\n",
       "  </thead>\n",
       "  <tbody>\n",
       "    <tr>\n",
       "      <th>0</th>\n",
       "      <td>N10280</td>\n",
       "      <td>U18884</td>\n",
       "      <td>5.0</td>\n",
       "      <td>0.000316</td>\n",
       "      <td>0.001367</td>\n",
       "    </tr>\n",
       "    <tr>\n",
       "      <th>1</th>\n",
       "      <td>N10280</td>\n",
       "      <td>U42147</td>\n",
       "      <td>1.0</td>\n",
       "      <td>0.000063</td>\n",
       "      <td>0.001367</td>\n",
       "    </tr>\n",
       "    <tr>\n",
       "      <th>2</th>\n",
       "      <td>N10280</td>\n",
       "      <td>U69065</td>\n",
       "      <td>2.0</td>\n",
       "      <td>0.000126</td>\n",
       "      <td>0.001367</td>\n",
       "    </tr>\n",
       "    <tr>\n",
       "      <th>3</th>\n",
       "      <td>N10280</td>\n",
       "      <td>U74819</td>\n",
       "      <td>13.0</td>\n",
       "      <td>0.000821</td>\n",
       "      <td>0.001367</td>\n",
       "    </tr>\n",
       "    <tr>\n",
       "      <th>4</th>\n",
       "      <td>N10280</td>\n",
       "      <td>U74969</td>\n",
       "      <td>1.0</td>\n",
       "      <td>0.000063</td>\n",
       "      <td>0.001367</td>\n",
       "    </tr>\n",
       "  </tbody>\n",
       "</table>\n",
       "</div>"
      ],
      "text/plain": [
       "  history user_id  counts  user_score  news_score\n",
       "0  N10280  U18884     5.0    0.000316    0.001367\n",
       "1  N10280  U42147     1.0    0.000063    0.001367\n",
       "2  N10280  U69065     2.0    0.000126    0.001367\n",
       "3  N10280  U74819    13.0    0.000821    0.001367\n",
       "4  N10280  U74969     1.0    0.000063    0.001367"
      ]
     },
     "execution_count": 95,
     "metadata": {},
     "output_type": "execute_result"
    }
   ],
   "source": [
    "# creating news score column containing the normalized value counts of news\n",
    "df_counts['news_score']=df_counts.history.map(news_score_dict)\n",
    "df_counts.head()"
   ]
  },
  {
   "cell_type": "code",
   "execution_count": 96,
   "id": "1992eb12",
   "metadata": {},
   "outputs": [
    {
     "data": {
      "text/html": [
       "<div>\n",
       "<style scoped>\n",
       "    .dataframe tbody tr th:only-of-type {\n",
       "        vertical-align: middle;\n",
       "    }\n",
       "\n",
       "    .dataframe tbody tr th {\n",
       "        vertical-align: top;\n",
       "    }\n",
       "\n",
       "    .dataframe thead th {\n",
       "        text-align: right;\n",
       "    }\n",
       "</style>\n",
       "<table border=\"1\" class=\"dataframe\">\n",
       "  <thead>\n",
       "    <tr style=\"text-align: right;\">\n",
       "      <th></th>\n",
       "      <th>history</th>\n",
       "      <th>user_id</th>\n",
       "      <th>counts</th>\n",
       "      <th>user_score</th>\n",
       "      <th>news_score</th>\n",
       "      <th>score</th>\n",
       "    </tr>\n",
       "  </thead>\n",
       "  <tbody>\n",
       "    <tr>\n",
       "      <th>0</th>\n",
       "      <td>N10280</td>\n",
       "      <td>U18884</td>\n",
       "      <td>5.0</td>\n",
       "      <td>0.000316</td>\n",
       "      <td>0.001367</td>\n",
       "      <td>4.318512e-07</td>\n",
       "    </tr>\n",
       "    <tr>\n",
       "      <th>1</th>\n",
       "      <td>N10280</td>\n",
       "      <td>U42147</td>\n",
       "      <td>1.0</td>\n",
       "      <td>0.000063</td>\n",
       "      <td>0.001367</td>\n",
       "      <td>8.637024e-08</td>\n",
       "    </tr>\n",
       "    <tr>\n",
       "      <th>2</th>\n",
       "      <td>N10280</td>\n",
       "      <td>U69065</td>\n",
       "      <td>2.0</td>\n",
       "      <td>0.000126</td>\n",
       "      <td>0.001367</td>\n",
       "      <td>1.727405e-07</td>\n",
       "    </tr>\n",
       "    <tr>\n",
       "      <th>3</th>\n",
       "      <td>N10280</td>\n",
       "      <td>U74819</td>\n",
       "      <td>13.0</td>\n",
       "      <td>0.000821</td>\n",
       "      <td>0.001367</td>\n",
       "      <td>1.122813e-06</td>\n",
       "    </tr>\n",
       "    <tr>\n",
       "      <th>4</th>\n",
       "      <td>N10280</td>\n",
       "      <td>U74969</td>\n",
       "      <td>1.0</td>\n",
       "      <td>0.000063</td>\n",
       "      <td>0.001367</td>\n",
       "      <td>8.637024e-08</td>\n",
       "    </tr>\n",
       "  </tbody>\n",
       "</table>\n",
       "</div>"
      ],
      "text/plain": [
       "  history user_id  counts  user_score  news_score         score\n",
       "0  N10280  U18884     5.0    0.000316    0.001367  4.318512e-07\n",
       "1  N10280  U42147     1.0    0.000063    0.001367  8.637024e-08\n",
       "2  N10280  U69065     2.0    0.000126    0.001367  1.727405e-07\n",
       "3  N10280  U74819    13.0    0.000821    0.001367  1.122813e-06\n",
       "4  N10280  U74969     1.0    0.000063    0.001367  8.637024e-08"
      ]
     },
     "execution_count": 96,
     "metadata": {},
     "output_type": "execute_result"
    }
   ],
   "source": [
    "# calculating the final score that will be used for making recommendations\n",
    "df_counts['score']=df_counts['user_score']*df_counts['news_score']\n",
    "df_counts.head()"
   ]
  },
  {
   "cell_type": "code",
   "execution_count": 97,
   "id": "c30789ba",
   "metadata": {},
   "outputs": [
    {
     "data": {
      "text/html": [
       "<div>\n",
       "<style scoped>\n",
       "    .dataframe tbody tr th:only-of-type {\n",
       "        vertical-align: middle;\n",
       "    }\n",
       "\n",
       "    .dataframe tbody tr th {\n",
       "        vertical-align: top;\n",
       "    }\n",
       "\n",
       "    .dataframe thead th {\n",
       "        text-align: right;\n",
       "    }\n",
       "</style>\n",
       "<table border=\"1\" class=\"dataframe\">\n",
       "  <thead>\n",
       "    <tr style=\"text-align: right;\">\n",
       "      <th></th>\n",
       "      <th>score</th>\n",
       "    </tr>\n",
       "    <tr>\n",
       "      <th>history</th>\n",
       "      <th></th>\n",
       "    </tr>\n",
       "  </thead>\n",
       "  <tbody>\n",
       "    <tr>\n",
       "      <th>N6342</th>\n",
       "      <td>3.553272e-05</td>\n",
       "    </tr>\n",
       "    <tr>\n",
       "      <th>N17968</th>\n",
       "      <td>2.212806e-05</td>\n",
       "    </tr>\n",
       "    <tr>\n",
       "      <th>N49944</th>\n",
       "      <td>1.601304e-05</td>\n",
       "    </tr>\n",
       "    <tr>\n",
       "      <th>N8082</th>\n",
       "      <td>1.388833e-05</td>\n",
       "    </tr>\n",
       "    <tr>\n",
       "      <th>N64515</th>\n",
       "      <td>1.261006e-05</td>\n",
       "    </tr>\n",
       "    <tr>\n",
       "      <th>...</th>\n",
       "      <td>...</td>\n",
       "    </tr>\n",
       "    <tr>\n",
       "      <th>N49275</th>\n",
       "      <td>3.454810e-08</td>\n",
       "    </tr>\n",
       "    <tr>\n",
       "      <th>N48877</th>\n",
       "      <td>3.454810e-08</td>\n",
       "    </tr>\n",
       "    <tr>\n",
       "      <th>N38336</th>\n",
       "      <td>1.727405e-08</td>\n",
       "    </tr>\n",
       "    <tr>\n",
       "      <th>N36417</th>\n",
       "      <td>1.727405e-08</td>\n",
       "    </tr>\n",
       "    <tr>\n",
       "      <th>N19639</th>\n",
       "      <td>1.727405e-08</td>\n",
       "    </tr>\n",
       "  </tbody>\n",
       "</table>\n",
       "<p>120 rows × 1 columns</p>\n",
       "</div>"
      ],
      "text/plain": [
       "                score\n",
       "history              \n",
       "N6342    3.553272e-05\n",
       "N17968   2.212806e-05\n",
       "N49944   1.601304e-05\n",
       "N8082    1.388833e-05\n",
       "N64515   1.261006e-05\n",
       "...               ...\n",
       "N49275   3.454810e-08\n",
       "N48877   3.454810e-08\n",
       "N38336   1.727405e-08\n",
       "N36417   1.727405e-08\n",
       "N19639   1.727405e-08\n",
       "\n",
       "[120 rows x 1 columns]"
      ]
     },
     "execution_count": 97,
     "metadata": {},
     "output_type": "execute_result"
    }
   ],
   "source": [
    "# sorting the score column\n",
    "recs=df_counts.groupby(['history']).score.mean().to_frame().sort_values('score',ascending=False)\n",
    "recs"
   ]
  },
  {
   "cell_type": "code",
   "execution_count": 98,
   "id": "12ffa81c",
   "metadata": {},
   "outputs": [
    {
     "data": {
      "text/plain": [
       "['N6342',\n",
       " 'N17968',\n",
       " 'N49944',\n",
       " 'N8082',\n",
       " 'N64515',\n",
       " 'N33740',\n",
       " 'N31983',\n",
       " 'N1902',\n",
       " 'N64541',\n",
       " 'N36676']"
      ]
     },
     "execution_count": 98,
     "metadata": {},
     "output_type": "execute_result"
    }
   ],
   "source": [
    "# selecting top 10 news articles\n",
    "rec_news_id=recs.iloc[:10].index.tolist()\n",
    "rec_news_id"
   ]
  },
  {
   "cell_type": "code",
   "execution_count": 99,
   "id": "f01202f3",
   "metadata": {},
   "outputs": [
    {
     "name": "stdout",
     "output_type": "stream",
     "text": [
      "1 : Can Drinking Beer Wreck Your Weight-Loss Progress From Your Workouts? \n",
      "\n",
      "2 : Jillian Michaels Says Intermittent Fasting 'Isn't Actually Good For Weight Loss' \n",
      "\n",
      "3 : Kelly Clarkson Talks About Her Weight Loss And Why It's All About Her Health \n",
      "\n",
      "4 : 'Pioneer Woman' star Ree Drummond shows off weight loss in new selfie \n",
      "\n",
      "5 : 5 Changes I Made in My Life to Lose Face Fat and Get Healthy \n",
      "\n",
      "6 : 24 Ways to Shrink Your Belly in 24 Hours \n",
      "\n",
      "7 : Jess Lost 75 Pounds Without Counting Calories and Did This 1 Inspiring Thing Before Every Meal \n",
      "\n",
      "8 : 'I Lost 125 Pounds By Making One Tiny Change Every Week' \n",
      "\n",
      "9 : Fit mother-of-four shares the simple approach that helped her lose 30kg WITHOUT dieting - and her tricks for staying on track while eating out \n",
      "\n",
      "10 : 'I Lost 125 Pounds And Now I'm A Bodybuilder' \n",
      "\n",
      "\n",
      "Select index: 1\n",
      "\n",
      "News: Can Drinking Beer Wreck Your Weight-Loss Progress From Your Workouts?\n",
      "\n",
      "Abstract: Maybe not: New research out of Spain shows that regularly drinking beer didn't influence the body composition results of those doing HIIT-type workouts.\n"
     ]
    }
   ],
   "source": [
    "# showing top 10 recommendations \n",
    "news_recommended=df_news[df_news.news_id.isin(rec_news_id)]\n",
    "for idx,i in enumerate(news_recommended.title):\n",
    "    print(idx+1,\":\",i,'\\n')\n",
    "sel_idx=int(input(\"\\nSelect index: \"))\n",
    "sel_news=news_recommended.iloc[sel_idx-1]\n",
    "print(f\"\\nNews: {sel_news.title}\\n\\nAbstract: {sel_news.abstract}\")"
   ]
  },
  {
   "cell_type": "code",
   "execution_count": 100,
   "id": "8bbcecd9",
   "metadata": {},
   "outputs": [
    {
     "data": {
      "text/plain": [
       "news_id                                                     N8082\n",
       "category                                                   health\n",
       "subcategory                                            weightloss\n",
       "title           Can Drinking Beer Wreck Your Weight-Loss Progr...\n",
       "abstract        Maybe not: New research out of Spain shows tha...\n",
       "tags            weightloss Can Drinking Beer Wreck Your Progre...\n",
       "subcategory1                                           weightloss\n",
       "Name: 9234, dtype: object"
      ]
     },
     "execution_count": 100,
     "metadata": {},
     "output_type": "execute_result"
    }
   ],
   "source": [
    "# selected news information\n",
    "sel_news"
   ]
  },
  {
   "cell_type": "markdown",
   "id": "e4e1a791",
   "metadata": {},
   "source": [
    "#### Content based recommendation"
   ]
  },
  {
   "cell_type": "code",
   "execution_count": 101,
   "id": "3fbeace3",
   "metadata": {},
   "outputs": [
    {
     "data": {
      "text/html": [
       "<div>\n",
       "<style scoped>\n",
       "    .dataframe tbody tr th:only-of-type {\n",
       "        vertical-align: middle;\n",
       "    }\n",
       "\n",
       "    .dataframe tbody tr th {\n",
       "        vertical-align: top;\n",
       "    }\n",
       "\n",
       "    .dataframe thead th {\n",
       "        text-align: right;\n",
       "    }\n",
       "</style>\n",
       "<table border=\"1\" class=\"dataframe\">\n",
       "  <thead>\n",
       "    <tr style=\"text-align: right;\">\n",
       "      <th></th>\n",
       "      <th>news_id</th>\n",
       "      <th>category</th>\n",
       "      <th>subcategory</th>\n",
       "      <th>title</th>\n",
       "      <th>abstract</th>\n",
       "      <th>tags</th>\n",
       "      <th>subcategory1</th>\n",
       "    </tr>\n",
       "  </thead>\n",
       "  <tbody>\n",
       "    <tr>\n",
       "      <th>0</th>\n",
       "      <td>N19639</td>\n",
       "      <td>health</td>\n",
       "      <td>weightloss</td>\n",
       "      <td>50 Worst Habits For Belly Fat</td>\n",
       "      <td>These seemingly harmless habits are holding yo...</td>\n",
       "      <td>weightloss 50 Worst Habits For Belly Fat These...</td>\n",
       "      <td>weightloss</td>\n",
       "    </tr>\n",
       "    <tr>\n",
       "      <th>1</th>\n",
       "      <td>N15926</td>\n",
       "      <td>health</td>\n",
       "      <td>weightloss</td>\n",
       "      <td>These Simple Diet Changes Helped This Guy Lose...</td>\n",
       "      <td>The part of me that knew I had to make changes...</td>\n",
       "      <td>weightloss These Simple Diet Changes Helped Th...</td>\n",
       "      <td>weightloss</td>\n",
       "    </tr>\n",
       "    <tr>\n",
       "      <th>2</th>\n",
       "      <td>N60584</td>\n",
       "      <td>health</td>\n",
       "      <td>weightloss</td>\n",
       "      <td>Those Grueling Workouts May Not Help You Lose ...</td>\n",
       "      <td>If you're trying to lose weight, you're probab...</td>\n",
       "      <td>weightloss Those Grueling Workouts May Not Hel...</td>\n",
       "      <td>weightloss</td>\n",
       "    </tr>\n",
       "    <tr>\n",
       "      <th>3</th>\n",
       "      <td>N24868</td>\n",
       "      <td>health</td>\n",
       "      <td>weightloss</td>\n",
       "      <td>Watch: Man Shares Time-Lapse Video of Six-Mont...</td>\n",
       "      <td>We're big fans of weight-loss stories, but we ...</td>\n",
       "      <td>weightloss Watch Man Shares Video Journey We b...</td>\n",
       "      <td>weightloss</td>\n",
       "    </tr>\n",
       "    <tr>\n",
       "      <th>4</th>\n",
       "      <td>N16032</td>\n",
       "      <td>health</td>\n",
       "      <td>weightloss</td>\n",
       "      <td>If You Have a Slow Metabolism, Here Are 5 Doct...</td>\n",
       "      <td>If you have a slow metabolism, trying to lose ...</td>\n",
       "      <td>weightloss If You Have Slow Metabolism Here Ar...</td>\n",
       "      <td>weightloss</td>\n",
       "    </tr>\n",
       "  </tbody>\n",
       "</table>\n",
       "</div>"
      ],
      "text/plain": [
       "  news_id category subcategory  \\\n",
       "0  N19639   health  weightloss   \n",
       "1  N15926   health  weightloss   \n",
       "2  N60584   health  weightloss   \n",
       "3  N24868   health  weightloss   \n",
       "4  N16032   health  weightloss   \n",
       "\n",
       "                                               title  \\\n",
       "0                      50 Worst Habits For Belly Fat   \n",
       "1  These Simple Diet Changes Helped This Guy Lose...   \n",
       "2  Those Grueling Workouts May Not Help You Lose ...   \n",
       "3  Watch: Man Shares Time-Lapse Video of Six-Mont...   \n",
       "4  If You Have a Slow Metabolism, Here Are 5 Doct...   \n",
       "\n",
       "                                            abstract  \\\n",
       "0  These seemingly harmless habits are holding yo...   \n",
       "1  The part of me that knew I had to make changes...   \n",
       "2  If you're trying to lose weight, you're probab...   \n",
       "3  We're big fans of weight-loss stories, but we ...   \n",
       "4  If you have a slow metabolism, trying to lose ...   \n",
       "\n",
       "                                                tags subcategory1  \n",
       "0  weightloss 50 Worst Habits For Belly Fat These...   weightloss  \n",
       "1  weightloss These Simple Diet Changes Helped Th...   weightloss  \n",
       "2  weightloss Those Grueling Workouts May Not Hel...   weightloss  \n",
       "3  weightloss Watch Man Shares Video Journey We b...   weightloss  \n",
       "4  weightloss If You Have Slow Metabolism Here Ar...   weightloss  "
      ]
     },
     "execution_count": 101,
     "metadata": {},
     "output_type": "execute_result"
    }
   ],
   "source": [
    "# filtering news dataframe with selected category and subcategory\n",
    "df_con=df_news[(df_news.category==sel_news.category)&(df_news.subcategory==sel_news.subcategory)].reset_index(drop=True)\n",
    "df_con.head()"
   ]
  },
  {
   "cell_type": "code",
   "execution_count": 102,
   "id": "76f1a941",
   "metadata": {},
   "outputs": [],
   "source": [
    "# Bag of words\n",
    "bow=CountVectorizer(max_features=5000)\n",
    "vectors=bow.fit_transform(df_con['tags'])\n",
    "similarity=cosine_similarity(vectors)"
   ]
  },
  {
   "cell_type": "code",
   "execution_count": 103,
   "id": "fe421a70",
   "metadata": {},
   "outputs": [
    {
     "data": {
      "text/html": [
       "<div>\n",
       "<style scoped>\n",
       "    .dataframe tbody tr th:only-of-type {\n",
       "        vertical-align: middle;\n",
       "    }\n",
       "\n",
       "    .dataframe tbody tr th {\n",
       "        vertical-align: top;\n",
       "    }\n",
       "\n",
       "    .dataframe thead th {\n",
       "        text-align: right;\n",
       "    }\n",
       "</style>\n",
       "<table border=\"1\" class=\"dataframe\">\n",
       "  <thead>\n",
       "    <tr style=\"text-align: right;\">\n",
       "      <th></th>\n",
       "      <th>news_id</th>\n",
       "      <th>category</th>\n",
       "      <th>subcategory</th>\n",
       "      <th>title</th>\n",
       "      <th>abstract</th>\n",
       "      <th>tags</th>\n",
       "      <th>subcategory1</th>\n",
       "    </tr>\n",
       "  </thead>\n",
       "  <tbody>\n",
       "    <tr>\n",
       "      <th>72</th>\n",
       "      <td>N8082</td>\n",
       "      <td>health</td>\n",
       "      <td>weightloss</td>\n",
       "      <td>Can Drinking Beer Wreck Your Weight-Loss Progr...</td>\n",
       "      <td>Maybe not: New research out of Spain shows tha...</td>\n",
       "      <td>weightloss Can Drinking Beer Wreck Your Progre...</td>\n",
       "      <td>weightloss</td>\n",
       "    </tr>\n",
       "  </tbody>\n",
       "</table>\n",
       "</div>"
      ],
      "text/plain": [
       "   news_id category subcategory  \\\n",
       "72   N8082   health  weightloss   \n",
       "\n",
       "                                                title  \\\n",
       "72  Can Drinking Beer Wreck Your Weight-Loss Progr...   \n",
       "\n",
       "                                             abstract  \\\n",
       "72  Maybe not: New research out of Spain shows tha...   \n",
       "\n",
       "                                                 tags subcategory1  \n",
       "72  weightloss Can Drinking Beer Wreck Your Progre...   weightloss  "
      ]
     },
     "execution_count": 103,
     "metadata": {},
     "output_type": "execute_result"
    }
   ],
   "source": [
    "# selected news\n",
    "c_input=sel_news.news_id\n",
    "df_con[df_con.news_id == c_input]"
   ]
  },
  {
   "cell_type": "code",
   "execution_count": 104,
   "id": "7dbe3091",
   "metadata": {},
   "outputs": [],
   "source": [
    "# function for making recommendations based on content and similarity score\n",
    "def recommend(newd_id_c):\n",
    "    news_index = df_con[df_con.news_id == newd_id_c].index[0]\n",
    "    distance = similarity[news_index]\n",
    "    news_list = sorted(list(enumerate(distance)), reverse=True,key=lambda x:x[1])[1:6]\n",
    "    for i in news_list:\n",
    "        print(df_con.iloc[i[0]].news_id,':',df_con.iloc[i[0]].title)\n",
    "        print(\"Similarity score\",i[1],'\\n')"
   ]
  },
  {
   "cell_type": "code",
   "execution_count": 105,
   "id": "385f91bd",
   "metadata": {},
   "outputs": [
    {
     "name": "stdout",
     "output_type": "stream",
     "text": [
      "N24494 : Not Sure Why Your Weight Is Fluctuating? These Weight-Management Doctors Have Answers\n",
      "Similarity score 0.18208926018230742 \n",
      "\n",
      "N31697 : 8 Ways You Can Literally Lose Weight in Your Sleep\n",
      "Similarity score 0.16208817969462155 \n",
      "\n",
      "N3820 : Jessica Simpson's Trainer Says She Wouldn't Have Lost As Much Weight If She'd Been Drinking\n",
      "Similarity score 0.161627045958809 \n",
      "\n",
      "N22061 : 28 Simple Ways to Shrink Your Gut\n",
      "Similarity score 0.14888750009563956 \n",
      "\n",
      "N64310 : Metabolic Testing Can Help You Lose Weight *If* You Know How To Interpret Your Results\n",
      "Similarity score 0.1485562705416415 \n",
      "\n"
     ]
    }
   ],
   "source": [
    "# top 5 recommendations\n",
    "recommend(c_input)"
   ]
  },
  {
   "cell_type": "code",
   "execution_count": null,
   "id": "779c5f63",
   "metadata": {},
   "outputs": [],
   "source": []
  }
 ],
 "metadata": {
  "kernelspec": {
   "display_name": "Python 3 (ipykernel)",
   "language": "python",
   "name": "python3"
  },
  "language_info": {
   "codemirror_mode": {
    "name": "ipython",
    "version": 3
   },
   "file_extension": ".py",
   "mimetype": "text/x-python",
   "name": "python",
   "nbconvert_exporter": "python",
   "pygments_lexer": "ipython3",
   "version": "3.9.7"
  }
 },
 "nbformat": 4,
 "nbformat_minor": 5
}
